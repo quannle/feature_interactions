{
 "cells": [
  {
   "cell_type": "code",
   "execution_count": 2,
   "metadata": {},
   "outputs": [
    {
     "data": {
      "text/plain": [
       "<module 'functions' from '/Users/quanle/feature_interactions/functions.py'>"
      ]
     },
     "execution_count": 2,
     "metadata": {},
     "output_type": "execute_result"
    }
   ],
   "source": [
    "import numpy as np\n",
    "import matplotlib.pyplot as plt\n",
    "from sklearn.kernel_ridge import KernelRidge\n",
    "\n",
    "import functions as mp\n",
    "from joblib import Parallel, delayed\n",
    "\n",
    "import importlib\n",
    "importlib.reload(mp) # reloads package after changes have been made"
   ]
  },
  {
   "cell_type": "code",
   "execution_count": 3,
   "metadata": {},
   "outputs": [],
   "source": [
    "M = 10 \n",
    "N = 1000\n",
    "K = 0\n",
    "J1 = 0\n",
    "J2 = 1\n",
    "\n",
    "SNR = np.linspace(0, 5, 10)\n",
    "\n",
    "n_ratio = np.sqrt(N) / N\n",
    "m_ratio = np.sqrt(M) / M\n",
    "\n",
    "B = 1000\n",
    "num_trials = 1\n",
    "models = [\n",
    "    KernelRidge(alpha=.001, kernel=\"rbf\")\n",
    "]"
   ]
  },
  {
   "cell_type": "code",
   "execution_count": 4,
   "metadata": {},
   "outputs": [],
   "source": [
    "model_names = [model.__class__.__name__ if model.__class__.__name__ != KernelRidge.__name__ \n",
    "               else model.__class__.__name__ + \" \" + model.get_params()[\"kernel\"]\n",
    "               for model in models]"
   ]
  },
  {
   "cell_type": "code",
   "execution_count": 9,
   "metadata": {},
   "outputs": [
    {
     "data": {
      "image/png": "[encoded data removed]",
      "text/plain": [
       "<Figure size 640x480 with 1 Axes>"
      ]
     },
     "metadata": {},
     "output_type": "display_data"
    }
   ],
   "source": [
    "def compute_trial(X, Y, n_ratio, m_ratio, B, model, J1, J2, metric):\n",
    "    ensemble = mp.Ensemble(model).fit(X, Y, n_ratio, m_ratio, B)\n",
    "    predictions = ensemble.predict(X)\n",
    "\n",
    "    # plt.figure()\n",
    "    # plt.scatter(X[:, J1] * X[:, J2], predictions)\n",
    "\n",
    "def trial(M, N, K, n_ratio, m_ratio, B, model, J1, J2, snr):\n",
    "    X, Y = mp.kSparseLinearModel(N, M, K)\n",
    "    Y += snr * (X[:, J1] * X[:, J2])\n",
    "    Y += X[:, 0] + X[:, 1] + X[:, 2] + X[:, 4] + X[:, 5]\n",
    "    Y = (Y - np.mean(Y)) / np.std(Y)\n",
    "    plt.scatter(X[:, J1] * X[:, J2], Y)\n",
    "    return compute_trial(X, Y, n_ratio, m_ratio, B, model, J1, J2, np.abs) \n",
    "    \n",
    "\n",
    "trial(M, N, K, n_ratio, m_ratio, B, models[0], J1, J2, 5)\n",
    "plt.show()"
   ]
  },
  {
   "cell_type": "code",
   "execution_count": null,
   "metadata": {},
   "outputs": [],
   "source": []
  },
  {
   "cell_type": "code",
   "execution_count": 6,
   "metadata": {},
   "outputs": [],
   "source": [
    "def partial_dependence(X, model, S):\n",
    "    N, M = X.shape\n",
    "    pd = np.empty(N)\n",
    "    for i, x in enumerate(X):\n",
    "        copy = X.copy()\n",
    "        copy[:, S] = x[S]\n",
    "        pd[i] = np.mean(model.predict(copy))\n",
    "    return pd"
   ]
  }
 ],
 "metadata": {
  "kernelspec": {
   "display_name": "base",
   "language": "python",
   "name": "python3"
  },
  "language_info": {
   "codemirror_mode": {
    "name": "ipython",
    "version": 3
   },
   "file_extension": ".py",
   "mimetype": "text/x-python",
   "name": "python",
   "nbconvert_exporter": "python",
   "pygments_lexer": "ipython3",
   "version": "3.9.13"
  },
  "orig_nbformat": 4
 },
 "nbformat": 4,
 "nbformat_minor": 2
}

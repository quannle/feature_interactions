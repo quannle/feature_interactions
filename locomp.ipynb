{
 "cells": [
  {
   "cell_type": "markdown",
   "id": "3c460e66",
   "metadata": {},
   "source": [
    "## for classification"
   ]
  },
  {
   "cell_type": "code",
   "execution_count": null,
   "id": "ff772dd8",
   "metadata": {},
   "outputs": [],
   "source": [
    "from class_functions import *\n",
    "import pickle\n",
    "import pandas as pd\n",
    "import sys\n",
    "import warnings\n",
    "warnings.filterwarnings(\"ignore\")\n",
    "fit_funcs = {\n",
    "    'DecisionTreeClass':DecisionTreeClass,\n",
    "    'logitridgecv':logitridgecv,\n",
    "    'logitridge':logitridge,\n",
    "    'RFclass':RFclass,\n",
    "    'SVC':kernelSVC,\n",
    "    'MLPclass':MLPclass\n",
    "        }\n",
    "\n",
    "M=200\n",
    "M = 1000 \n",
    "n_ratio=int(np.sqrt(N))/N\n",
    "m_ratio=int(np.sqrt(M))/M\n",
    "SNR =[0,1,2,3,4,5,6,7,8,9,10]\n",
    "\n",
    "\n",
    "B=10000\n",
    "snr = 5 \n",
    "generate= 'linearsparse'\n",
    "for fit_func,fit_func_2 in [(DecisionTreeClass,RFclass),(logitridge,logitridgecv),(kernelSVC,kernelSVC)]:\n",
    "   \n",
    "    ress={}\n",
    "    for itrial in range(10):\n",
    "            if generate=='autosparse':\n",
    "                X,Y,X1,Y1 =SimuAutoregressiveExactSparseClass(N,M,10000,snr,seed = 123*itrial+456)\n",
    "            if generate=='linearsparse':\n",
    "                X,Y,X1,Y1 =SimuExactSparseClass(N,M,10000,snr,seed = 123*itrial+456)\n",
    "            if generate=='nonlinearsparse':\n",
    "                X,Y,X1,Y1 =SimuNonlinearExactSparseClass(N,M,10000,snr,seed = 123*itrial+456)\n",
    "print('LOCOMP')\n",
    "            res = LOCOMPClass(X,Y,X1,Y1, n_ratio,m_ratio,B,fit_func,0.001,LOCO = True, selected_features=[],alpha=0.1,bonf=False)\n",
    "            ress[itrial] = res\n",
    "#             f = open('class/sameM1w_all_locomp_'+generate+'_class_'+fit_func.__name__+'_'+str(size)+'_'+str(m_ratio)+'_'+str(n_ratio)+'_'+str(snr)+'_stab.pkl','wb')                \n",
    "#             pickle.dump(ress,f)\n",
    "#             f.close()\n",
    "\n",
    "\n"
   ]
  },
  {
   "cell_type": "markdown",
   "id": "2ba950b1",
   "metadata": {},
   "source": [
    "## for regression"
   ]
  },
  {
   "cell_type": "code",
   "execution_count": null,
   "id": "81bc435b",
   "metadata": {},
   "outputs": [],
   "source": [
    "import pickle\n",
    "import sys\n",
    "from reg_functions import *\n",
    "fit_funcs = {\n",
    "    'DecisionTreeReg':DecisionTreeReg,\n",
    "    'ridgecv':ridgecv,\n",
    "    'ridge':ridge2,\n",
    "    'RFreg':RFreg\n",
    "        }\n",
    "M=200\n",
    "M = 1000 \n",
    "n_ratio=int(np.sqrt(N))/N\n",
    "m_ratio=int(np.sqrt(M))/M\n",
    "SNR =[0,1,2,3,4,5,6,7,8,9,10]\n",
    "\n",
    "\n",
    "B=10000\n",
    "snr = 5 \n",
    "generate= 'linearsparse'\n",
    "for fit_func,fit_func_2 in [(DecisionTreeReg,RFreg),(ridge2,ridgecv), (kernelSVR,kernelSVR)]:   \n",
    "    ress={}\n",
    "    for itrial in range(10):\n",
    "        if generate=='autosparse':\n",
    "            X,Y,X1,Y1 =SimuAutoregressiveExactSparse(N,M,10000,snr,seed = 123*itrial+456)\n",
    "        if generate=='linearsparse':\n",
    "            X,Y,X1,Y1 =SimuRealLinearExactSparse5per(N,M,10000,snr,seed = 123*itrial+456)\n",
    "        if generate=='nonlinearsparse':\n",
    "            X,Y,X1,Y1 =SimuNonlinearExactSparse(N,M,10000,snr,seed = 123*itrial+456)\n",
    "        print('LOCOMP')\n",
    "        res = LOCOMPReg(X,Y,X1,Y1, n_ratio,m_ratio,B,fit_func,0.001,LOCO = True, selected_features=[],alpha=0.1,bonf=False)\n",
    "        ress[itrial] = res\n",
    "#             f = open('Reg/sameM1w_all_locomp_'+generate+'_Reg_'+fit_func.__name__+'_'+str(size)+'_'+str(m_ratio)+'_'+str(n_ratio)+'_'+str(snr)+'_stab.pkl','wb')                \n",
    "#             pickle.dump(ress,f)\n",
    "#             f.close()\n",
    "\n",
    "\n",
    "\n"
   ]
  },
  {
   "attachments": {},
   "cell_type": "markdown",
   "id": "10521429",
   "metadata": {},
   "source": [
    "## for feature interaction"
   ]
  },
  {
   "cell_type": "code",
   "execution_count": 6,
   "id": "30317edc",
   "metadata": {},
   "outputs": [
    {
     "name": "stdout",
     "output_type": "stream",
     "text": [
      "LOCOMP\n"
     ]
    },
    {
     "ename": "TypeError",
     "evalue": "DecisionTreeReg() missing 1 required positional argument: 'fun_para'",
     "output_type": "error",
     "traceback": [
      "\u001b[0;31m---------------------------------------------------------------------------\u001b[0m",
      "\u001b[0;31mTypeError\u001b[0m                                 Traceback (most recent call last)",
      "\u001b[0;32m/var/folders/q3/_ggffzj933s64pz_z4jk4ds80000gn/T/ipykernel_30206/3339652687.py\u001b[0m in \u001b[0;36m<cell line: 20>\u001b[0;34m()\u001b[0m\n\u001b[1;32m     28\u001b[0m             \u001b[0mX\u001b[0m\u001b[0;34m,\u001b[0m\u001b[0mY\u001b[0m\u001b[0;34m,\u001b[0m\u001b[0mX1\u001b[0m\u001b[0;34m,\u001b[0m\u001b[0mY1\u001b[0m \u001b[0;34m=\u001b[0m\u001b[0mSimuNonlinearExactSparse\u001b[0m\u001b[0;34m(\u001b[0m\u001b[0mN\u001b[0m\u001b[0;34m,\u001b[0m\u001b[0mM\u001b[0m\u001b[0;34m,\u001b[0m\u001b[0;36m10000\u001b[0m\u001b[0;34m,\u001b[0m\u001b[0msnr\u001b[0m\u001b[0;34m,\u001b[0m\u001b[0mseed\u001b[0m \u001b[0;34m=\u001b[0m \u001b[0;36m123\u001b[0m\u001b[0;34m*\u001b[0m\u001b[0mitrial\u001b[0m\u001b[0;34m+\u001b[0m\u001b[0;36m456\u001b[0m\u001b[0;34m)\u001b[0m\u001b[0;34m\u001b[0m\u001b[0;34m\u001b[0m\u001b[0m\n\u001b[1;32m     29\u001b[0m         \u001b[0mprint\u001b[0m\u001b[0;34m(\u001b[0m\u001b[0;34m'LOCOMP'\u001b[0m\u001b[0;34m)\u001b[0m\u001b[0;34m\u001b[0m\u001b[0;34m\u001b[0m\u001b[0m\n\u001b[0;32m---> 30\u001b[0;31m         \u001b[0mres\u001b[0m \u001b[0;34m=\u001b[0m \u001b[0mLOCOMPReg\u001b[0m\u001b[0;34m(\u001b[0m\u001b[0mX\u001b[0m\u001b[0;34m,\u001b[0m\u001b[0mY\u001b[0m\u001b[0;34m,\u001b[0m \u001b[0mn_ratio\u001b[0m\u001b[0;34m,\u001b[0m\u001b[0mm_ratio\u001b[0m\u001b[0;34m,\u001b[0m\u001b[0mB\u001b[0m\u001b[0;34m,\u001b[0m\u001b[0mfit_func\u001b[0m\u001b[0;34m,\u001b[0m\u001b[0mselected_features\u001b[0m\u001b[0;34m=\u001b[0m\u001b[0;34m[\u001b[0m\u001b[0;34m]\u001b[0m\u001b[0;34m,\u001b[0m\u001b[0malpha\u001b[0m\u001b[0;34m=\u001b[0m\u001b[0;36m0.1\u001b[0m\u001b[0;34m,\u001b[0m\u001b[0mbonf\u001b[0m\u001b[0;34m=\u001b[0m\u001b[0;32mFalse\u001b[0m\u001b[0;34m)\u001b[0m\u001b[0;34m\u001b[0m\u001b[0;34m\u001b[0m\u001b[0m\n\u001b[0m\u001b[1;32m     31\u001b[0m         \u001b[0mress\u001b[0m\u001b[0;34m[\u001b[0m\u001b[0mitrial\u001b[0m\u001b[0;34m]\u001b[0m \u001b[0;34m=\u001b[0m \u001b[0mres\u001b[0m\u001b[0;34m\u001b[0m\u001b[0;34m\u001b[0m\u001b[0m\n\u001b[1;32m     32\u001b[0m \u001b[0;31m#             f = open('Reg/sameM1w_all_locomp_'+generate+'_Reg_'+fit_func.__name__+'_'+str(size)+'_'+str(m_ratio)+'_'+str(n_ratio)+'_'+str(snr)+'_stab.pkl','wb')\u001b[0m\u001b[0;34m\u001b[0m\u001b[0;34m\u001b[0m\u001b[0m\n",
      "\u001b[0;32m~/feature_interactions/LOCO_regression.py\u001b[0m in \u001b[0;36mLOCOMPReg\u001b[0;34m(X, Y, n_ratio, m_ratio, B, fit_func, selected_features, alpha, bonf)\u001b[0m\n\u001b[1;32m     14\u001b[0m     \u001b[0mM\u001b[0m \u001b[0;34m=\u001b[0m \u001b[0mlen\u001b[0m\u001b[0;34m(\u001b[0m\u001b[0mX\u001b[0m\u001b[0;34m[\u001b[0m\u001b[0;36m0\u001b[0m\u001b[0;34m]\u001b[0m\u001b[0;34m)\u001b[0m\u001b[0;34m\u001b[0m\u001b[0;34m\u001b[0m\u001b[0m\n\u001b[1;32m     15\u001b[0m \u001b[0;34m\u001b[0m\u001b[0m\n\u001b[0;32m---> 16\u001b[0;31m     \u001b[0;34m[\u001b[0m\u001b[0mpredictions\u001b[0m\u001b[0;34m,\u001b[0m\u001b[0min_mp_obs\u001b[0m\u001b[0;34m,\u001b[0m\u001b[0min_mp_feature\u001b[0m\u001b[0;34m]\u001b[0m\u001b[0;34m=\u001b[0m \u001b[0mpredictMP\u001b[0m\u001b[0;34m(\u001b[0m\u001b[0mX\u001b[0m\u001b[0;34m,\u001b[0m\u001b[0mY\u001b[0m\u001b[0;34m,\u001b[0m\u001b[0mX\u001b[0m\u001b[0;34m,\u001b[0m\u001b[0mn_ratio\u001b[0m\u001b[0;34m,\u001b[0m\u001b[0mm_ratio\u001b[0m\u001b[0;34m,\u001b[0m\u001b[0mB\u001b[0m\u001b[0;34m,\u001b[0m\u001b[0mfit_func\u001b[0m\u001b[0;34m)\u001b[0m\u001b[0;34m\u001b[0m\u001b[0;34m\u001b[0m\u001b[0m\n\u001b[0m\u001b[1;32m     17\u001b[0m     \u001b[0mpredictions_train\u001b[0m \u001b[0;34m=\u001b[0m \u001b[0mpredictions\u001b[0m\u001b[0;34m\u001b[0m\u001b[0;34m\u001b[0m\u001b[0m\n\u001b[1;32m     18\u001b[0m \u001b[0;34m\u001b[0m\u001b[0m\n",
      "\u001b[0;32m~/feature_interactions/LOCO_regression.py\u001b[0m in \u001b[0;36mpredictMP\u001b[0;34m(X, Y, X1, n_ratio, m_ratio, B, fit_func)\u001b[0m\n\u001b[1;32m     91\u001b[0m     \u001b[0;32mfor\u001b[0m \u001b[0mb\u001b[0m \u001b[0;32min\u001b[0m \u001b[0mrange\u001b[0m\u001b[0;34m(\u001b[0m\u001b[0mB\u001b[0m\u001b[0;34m)\u001b[0m\u001b[0;34m:\u001b[0m\u001b[0;34m\u001b[0m\u001b[0;34m\u001b[0m\u001b[0m\n\u001b[1;32m     92\u001b[0m         \u001b[0;34m[\u001b[0m\u001b[0midx_I\u001b[0m\u001b[0;34m,\u001b[0m\u001b[0midx_F\u001b[0m\u001b[0;34m,\u001b[0m\u001b[0mx_mp\u001b[0m\u001b[0;34m,\u001b[0m\u001b[0my_mp\u001b[0m\u001b[0;34m]\u001b[0m \u001b[0;34m=\u001b[0m \u001b[0mbuildMP\u001b[0m\u001b[0;34m(\u001b[0m\u001b[0mX\u001b[0m\u001b[0;34m,\u001b[0m\u001b[0mY\u001b[0m\u001b[0;34m,\u001b[0m\u001b[0mn_ratio\u001b[0m\u001b[0;34m,\u001b[0m\u001b[0mm_ratio\u001b[0m\u001b[0;34m)\u001b[0m\u001b[0;34m\u001b[0m\u001b[0;34m\u001b[0m\u001b[0m\n\u001b[0;32m---> 93\u001b[0;31m         \u001b[0mpredictions\u001b[0m\u001b[0;34m.\u001b[0m\u001b[0mappend\u001b[0m\u001b[0;34m(\u001b[0m\u001b[0mfit_func\u001b[0m\u001b[0;34m(\u001b[0m\u001b[0mx_mp\u001b[0m\u001b[0;34m,\u001b[0m\u001b[0my_mp\u001b[0m\u001b[0;34m,\u001b[0m\u001b[0mX1\u001b[0m\u001b[0;34m[\u001b[0m\u001b[0;34m:\u001b[0m\u001b[0;34m,\u001b[0m \u001b[0midx_F\u001b[0m\u001b[0;34m]\u001b[0m\u001b[0;34m)\u001b[0m\u001b[0;34m)\u001b[0m\u001b[0;34m\u001b[0m\u001b[0;34m\u001b[0m\u001b[0m\n\u001b[0m\u001b[1;32m     94\u001b[0m         \u001b[0min_mp_obs\u001b[0m\u001b[0;34m[\u001b[0m\u001b[0mb\u001b[0m\u001b[0;34m,\u001b[0m\u001b[0midx_I\u001b[0m\u001b[0;34m]\u001b[0m\u001b[0;34m=\u001b[0m\u001b[0;32mTrue\u001b[0m\u001b[0;34m\u001b[0m\u001b[0;34m\u001b[0m\u001b[0m\n\u001b[1;32m     95\u001b[0m         \u001b[0min_mp_feature\u001b[0m\u001b[0;34m[\u001b[0m\u001b[0mb\u001b[0m\u001b[0;34m,\u001b[0m\u001b[0midx_F\u001b[0m\u001b[0;34m]\u001b[0m\u001b[0;34m=\u001b[0m\u001b[0;32mTrue\u001b[0m\u001b[0;34m\u001b[0m\u001b[0;34m\u001b[0m\u001b[0m\n",
      "\u001b[0;31mTypeError\u001b[0m: DecisionTreeReg() missing 1 required positional argument: 'fun_para'"
     ]
    }
   ],
   "source": [
    "import pickle\n",
    "import sys\n",
    "from LOCO_regression import *\n",
    "from ML_models import *\n",
    "fit_funcs = {\n",
    "    'DecisionTreeReg':DecisionTreeReg,\n",
    "    'ridgecv':ridgecv,\n",
    "    'ridge':ridge2,\n",
    "    'RFreg':RFreg\n",
    "        }\n",
    "M=200\n",
    "N = 1000 \n",
    "n_ratio=int(np.sqrt(N))/N\n",
    "m_ratio=int(np.sqrt(M))/M\n",
    "SNR =[0,1,2,3,4,5,6,7,8,9,10]\n",
    "\n",
    "\n",
    "B=10000\n",
    "snr = 5 \n",
    "generate= 'linearsparse'\n",
    "for fit_func,fit_func_2 in [(DecisionTreeReg,RFreg),(ridge2,ridgecv), (kernelSVR,kernelSVR)]:   \n",
    "    ress={}\n",
    "    for itrial in range(10):\n",
    "        if generate=='autosparse':\n",
    "            X,Y,X1,Y1 =SimuAutoregressiveExactSparse(N,M,10000,snr,seed = 123*itrial+456)\n",
    "        if generate=='linearsparse':\n",
    "            X,Y,X1,Y1 =SimuRealLinearExactSparse5per(N,M,10000,snr,seed = 123*itrial+456)\n",
    "        if generate=='nonlinearsparse':\n",
    "            X,Y,X1,Y1 =SimuNonlinearExactSparse(N,M,10000,snr,seed = 123*itrial+456)\n",
    "        print('LOCOMP')\n",
    "        res = LOCOMPReg(X,Y, n_ratio,m_ratio,B,fit_func,selected_features=[],alpha=0.1,bonf=False)\n",
    "        ress[itrial] = res\n",
    "#             f = open('Reg/sameM1w_all_locomp_'+generate+'_Reg_'+fit_func.__name__+'_'+str(size)+'_'+str(m_ratio)+'_'+str(n_ratio)+'_'+str(snr)+'_stab.pkl','wb')                \n",
    "#             pickle.dump(ress,f)\n",
    "#             f.close()"
   ]
  },
  {
   "cell_type": "code",
   "execution_count": null,
   "id": "e4576da4",
   "metadata": {},
   "outputs": [],
   "source": []
  }
 ],
 "metadata": {
  "kernelspec": {
   "display_name": "base",
   "language": "python",
   "name": "python3"
  },
  "language_info": {
   "codemirror_mode": {
    "name": "ipython",
    "version": 3
   },
   "file_extension": ".py",
   "mimetype": "text/x-python",
   "name": "python",
   "nbconvert_exporter": "python",
   "pygments_lexer": "ipython3",
   "version": "3.9.13"
  },
  "vscode": {
   "interpreter": {
    "hash": "4204478d18a5c595d10159abb5fd26776664e283fbae8c6748469415f9616bfd"
   }
  }
 },
 "nbformat": 4,
 "nbformat_minor": 5
}
